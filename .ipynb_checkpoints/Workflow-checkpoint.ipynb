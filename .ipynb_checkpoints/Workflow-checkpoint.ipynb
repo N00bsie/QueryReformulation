{
 "cells": [
  {
   "cell_type": "markdown",
   "metadata": {},
   "source": [
    "# Reproducible Workflow\n",
    "This notebook is intended to be a walkthrough of the paper results with examples that convey the main idea. To load the LUBM Graph we use a public endpoint on [Dydra](http://dydra.com). However for larger test cases we run our tests on Apache Jena. In case you have a LUBM on your local/public endpoint, you can load it as well. Please note that the LUBM that we use is _materialized_. The inferencing is **RDFS**. "
   ]
  },
  {
   "cell_type": "markdown",
   "metadata": {},
   "source": [
    "# Relaxation\n",
    "Relaxation is the standard baseline for reformulating SPARQL queries. A lot of related work exists on reformulating SPARQL queries. The ideas are inherently based on *flexible* querying. In this notion, the different conditions in the input query are *loosened* or *relaxed* to give more results. This can also be looked at as *exploratory* querying. \n",
    "\n",
    "## SPARQL Query Relaxation\n",
    "Lets have a look at this hierarchy from LUBM on all teaching faculty in a University.\n",
    "* Employee \n",
    "* * Faculty \n",
    "* * * Professor \n",
    "* * * * VisitingProfessor \n",
    "* * * * FullProfessor \n",
    "* * * * Dean \n",
    "* * * * Chair \n",
    "* * * * AssociateProfessor \n",
    "* * * * AssistantProfessor \n",
    "* * * * PostDoc \n",
    "* * * * Lecturer \n",
    "\n",
    "Lets look how relaxation helps in getting more answers. In this case consider the following query on LUBM\n",
    "\n",
    "\n",
    "```Select ?teacher where {\n",
    "    ?teacher a Lecturer .\n",
    "} ```\n",
    "\n",
    "Lets see the results that we get from LUBM"
   ]
  },
  {
   "cell_type": "code",
   "execution_count": 15,
   "metadata": {},
   "outputs": [
    {
     "name": "stdout",
     "output_type": "stream",
     "text": [
      "Total triple statements in LUBM is 144299\n"
     ]
    }
   ],
   "source": [
    "from rdflib import Graph\n",
    "g = Graph()\n",
    "g.parse('lubm_saturated.nt',format=\"nt\")\n",
    "print(\"Total triple statements in LUBM is \" + str(len(g)))"
   ]
  },
  {
   "cell_type": "code",
   "execution_count": 2,
   "metadata": {},
   "outputs": [],
   "source": [
    "from SPARQLWrapper import SPARQLWrapper, JSON\n",
    "from IPython.display import display\n",
    "import pandas as pd\n",
    "import json\n",
    "import numpy as np\n",
    "from pandas.io.json import json_normalize\n",
    "\n",
    "pd.options.display.max_colwidth = 100\n",
    "pd.options.display.max_rows = 999\n",
    "\n",
    "#Procedure to execute a SPARQL Query and get a pandas object out of it\n",
    "def execute_query(sparqlQuery):\n",
    "    sparql = SPARQLWrapper(\"https://dydra.com/amarviswanathan/lubm/sparql\")\n",
    "    sparql.setQuery(sparqlQuery)\n",
    "    sparql.setReturnFormat(JSON)\n",
    "    results = sparql.query().convert()\n",
    "    results_df = json_normalize(results[\"results\"][\"bindings\"])\n",
    "    return results_df\n",
    "\n"
   ]
  },
  {
   "cell_type": "code",
   "execution_count": 3,
   "metadata": {},
   "outputs": [
    {
     "name": "stdout",
     "output_type": "stream",
     "text": [
      "CPU times: user 4 ms, sys: 4 ms, total: 8 ms\n",
      "Wall time: 396 ms\n"
     ]
    }
   ],
   "source": [
    "%%time\n",
    "query  = \"\"\"\n",
    "\n",
    "PREFIX  ub: <http://swat.cse.lehigh.edu/onto/univ-bench.owl#>\n",
    "Select ?teacher where {\n",
    "    ?teacher a ub:Lecturer .\n",
    "}\n",
    "\n",
    "\"\"\"\n",
    "results_df = execute_query(query)\n",
    "\n",
    "#Show the top-5 results\n",
    "results_df.head()"
   ]
  },
  {
   "cell_type": "code",
   "execution_count": 4,
   "metadata": {},
   "outputs": [
    {
     "name": "stdout",
     "output_type": "stream",
     "text": [
      "There are 93 lecturers\n"
     ]
    }
   ],
   "source": [
    "#Total number of lecturers\n",
    "shape = results_df.shape\n",
    "print(\"There are \" + str(shape[0]) + \" lecturers\")"
   ]
  },
  {
   "cell_type": "markdown",
   "metadata": {},
   "source": [
    "But if the user is not satisfied with these 93 lecturers and wants to find more of them, a simple way is to relax by moving up in the hierarchy. So we move from Lecturer to Professor. This gives us the following query : \n",
    "\n",
    "``` \n",
    "Select ?teacher where {\n",
    "    ?teacher a ub:Professor .\n",
    "}\n",
    "```"
   ]
  },
  {
   "cell_type": "code",
   "execution_count": 5,
   "metadata": {},
   "outputs": [
    {
     "name": "stdout",
     "output_type": "stream",
     "text": [
      "CPU times: user 16 ms, sys: 0 ns, total: 16 ms\n",
      "Wall time: 588 ms\n"
     ]
    }
   ],
   "source": [
    "%%time \n",
    "relaxed_query  = \"\"\"\n",
    "\n",
    "PREFIX  ub: <http://swat.cse.lehigh.edu/onto/univ-bench.owl#>\n",
    "Select ?teacher where {\n",
    "    ?teacher a ub:Professor .\n",
    "}\n",
    "\"\"\"\n",
    "results_df = execute_query(relaxed_query)\n",
    "\n",
    "#Show the top-5 results\n",
    "results_df.head()"
   ]
  },
  {
   "cell_type": "code",
   "execution_count": 6,
   "metadata": {},
   "outputs": [
    {
     "name": "stdout",
     "output_type": "stream",
     "text": [
      "There are 447 Professors\n"
     ]
    }
   ],
   "source": [
    "#Total number of lecturers\n",
    "shape = results_df.shape\n",
    "print(\"There are \" + str(shape[0]) + \" Professors\")"
   ]
  },
  {
   "cell_type": "markdown",
   "metadata": {},
   "source": [
    "The above result gives us 447 Professors, each of whom may be any type under the hierarchy of **Professor**."
   ]
  },
  {
   "cell_type": "markdown",
   "metadata": {},
   "source": [
    "## Instance Query \n",
    "Let us look at an instance of a **Professor** i.e. **<http://www.Department14.University0.edu/FullProfessor4>** and see what courses this Professor teaches."
   ]
  },
  {
   "cell_type": "code",
   "execution_count": 7,
   "metadata": {},
   "outputs": [
    {
     "name": "stdout",
     "output_type": "stream",
     "text": [
      "CPU times: user 4 ms, sys: 4 ms, total: 8 ms\n",
      "Wall time: 389 ms\n"
     ]
    }
   ],
   "source": [
    "%%time \n",
    "entity_query = \"\"\"\n",
    "PREFIX  ub: <http://swat.cse.lehigh.edu/onto/univ-bench.owl#>\n",
    "Select ?course where {\n",
    "   <http://www.Department14.University0.edu/FullProfessor4> ub:teacherOf  ?course .\n",
    "}\n",
    "\"\"\"\n",
    "\n",
    "results_df = execute_query(entity_query)\n",
    "results_df = results_df[['course.value']]\n",
    "# Show all the results\n",
    "results_df"
   ]
  },
  {
   "cell_type": "markdown",
   "metadata": {},
   "source": [
    "So the **FullProfessor4** teaches `2 Graduate Courses` and `1 Course`.  **If** the user decides to want more answers, an automatic way would be to relax the query. Thus the system wouldrelax this entity value. However the entity has **no hierarchy**. Which means this entity ends up being relaxed to a variable. This is known as `simple relaxation`. The relaxed query then becomes \n",
    "\n",
    "\n",
    "```Select ?course where {\n",
    "    ?teacher ub:teacherOf ?course .\n",
    "} ```\n"
   ]
  },
  {
   "cell_type": "code",
   "execution_count": 8,
   "metadata": {},
   "outputs": [
    {
     "name": "stdout",
     "output_type": "stream",
     "text": [
      "The total courses are 1627\n",
      "CPU times: user 68 ms, sys: 0 ns, total: 68 ms\n",
      "Wall time: 1.88 s\n"
     ]
    }
   ],
   "source": [
    "%%time \n",
    "entity_relaxed_query = \"\"\"\n",
    "PREFIX  ub: <http://swat.cse.lehigh.edu/onto/univ-bench.owl#>\n",
    "Select ?teacher ?course where {\n",
    "   ?teacher ub:teacherOf  ?course .\n",
    "}\n",
    "\"\"\"\n",
    "\n",
    "relax_df = execute_query(entity_relaxed_query)\n",
    "\n",
    "# Show all the results\n",
    "relax_df\n",
    "print(\"The total courses are \" + str(relax_df.shape[0]))\n",
    "\n",
    "relax_df.head()"
   ]
  },
  {
   "cell_type": "markdown",
   "metadata": {},
   "source": [
    "### Motivation\n",
    "In this case, we end up relaxing the query to find _Anybody who takes any course_. Now this ends up giving `1627 results` and is very _generalized_. While this is logically right, wouldn't it be more beneficial if the system resulted in courses are more similar to what **Professor14** teaches? "
   ]
  },
  {
   "cell_type": "markdown",
   "metadata": {},
   "source": [
    "\n",
    "# Goal\n",
    "\n",
    "To address this issue, we present a technique where we utilize the _entity_ statements present in the graph to suggest reformulations. Let us see how this makes sense. Entities have properties(_predicate_) and values (_object_) in the graph. For example the entity **Professor14** has this triple associated with it\n",
    "\n",
    "| Subject        | Predicate           | Object  |\n",
    "| ------------- |:-------------:| -----:|\n",
    "|**Professor14**|teacherOf|GraduateCourse5|\n",
    "\n",
    "\n",
    "One could easily utilize these values much more effectively to create _triple patterns_ that can be appended back to the original query. This can then be used to suggest reformulations. We call the **predicate** and **object** value pair as a _feature_. Since we utilize these features to create reformulations, we call our method \n",
    "**Feature based reformulation of entities in triple pattern queries**. \n",
    "\n",
    "The features provide more _information_ and _context_ about an entity. Let us see how features can be used. To do that we print out the features of **FullProfessor4** from LUBM."
   ]
  },
  {
   "cell_type": "code",
   "execution_count": 9,
   "metadata": {},
   "outputs": [
    {
     "data": {
      "text/html": [
       "<div>\n",
       "<style>\n",
       "    .dataframe thead tr:only-child th {\n",
       "        text-align: right;\n",
       "    }\n",
       "\n",
       "    .dataframe thead th {\n",
       "        text-align: left;\n",
       "    }\n",
       "\n",
       "    .dataframe tbody tr th {\n",
       "        vertical-align: top;\n",
       "    }\n",
       "</style>\n",
       "<table border=\"1\" class=\"dataframe\">\n",
       "  <thead>\n",
       "    <tr style=\"text-align: right;\">\n",
       "      <th></th>\n",
       "      <th>o.datatype</th>\n",
       "      <th>o.type</th>\n",
       "      <th>o.value</th>\n",
       "      <th>p.type</th>\n",
       "      <th>p.value</th>\n",
       "    </tr>\n",
       "  </thead>\n",
       "  <tbody>\n",
       "    <tr>\n",
       "      <th>0</th>\n",
       "      <td>NaN</td>\n",
       "      <td>uri</td>\n",
       "      <td>http://www.w3.org/2000/01/rdf-schema#Resource</td>\n",
       "      <td>uri</td>\n",
       "      <td>http://www.w3.org/1999/02/22-rdf-syntax-ns#type</td>\n",
       "    </tr>\n",
       "    <tr>\n",
       "      <th>1</th>\n",
       "      <td>NaN</td>\n",
       "      <td>uri</td>\n",
       "      <td>http://swat.cse.lehigh.edu/onto/univ-bench.owl#FullProfessor</td>\n",
       "      <td>uri</td>\n",
       "      <td>http://www.w3.org/1999/02/22-rdf-syntax-ns#type</td>\n",
       "    </tr>\n",
       "    <tr>\n",
       "      <th>2</th>\n",
       "      <td>NaN</td>\n",
       "      <td>uri</td>\n",
       "      <td>http://swat.cse.lehigh.edu/onto/univ-bench.owl#Faculty</td>\n",
       "      <td>uri</td>\n",
       "      <td>http://www.w3.org/1999/02/22-rdf-syntax-ns#type</td>\n",
       "    </tr>\n",
       "    <tr>\n",
       "      <th>3</th>\n",
       "      <td>NaN</td>\n",
       "      <td>uri</td>\n",
       "      <td>http://swat.cse.lehigh.edu/onto/univ-bench.owl#Person</td>\n",
       "      <td>uri</td>\n",
       "      <td>http://www.w3.org/1999/02/22-rdf-syntax-ns#type</td>\n",
       "    </tr>\n",
       "    <tr>\n",
       "      <th>4</th>\n",
       "      <td>NaN</td>\n",
       "      <td>uri</td>\n",
       "      <td>http://swat.cse.lehigh.edu/onto/univ-bench.owl#Professor</td>\n",
       "      <td>uri</td>\n",
       "      <td>http://www.w3.org/1999/02/22-rdf-syntax-ns#type</td>\n",
       "    </tr>\n",
       "    <tr>\n",
       "      <th>5</th>\n",
       "      <td>NaN</td>\n",
       "      <td>uri</td>\n",
       "      <td>http://swat.cse.lehigh.edu/onto/univ-bench.owl#Employee</td>\n",
       "      <td>uri</td>\n",
       "      <td>http://www.w3.org/1999/02/22-rdf-syntax-ns#type</td>\n",
       "    </tr>\n",
       "    <tr>\n",
       "      <th>6</th>\n",
       "      <td>http://www.w3.org/2001/XMLSchema#string</td>\n",
       "      <td>literal</td>\n",
       "      <td>FullProfessor4</td>\n",
       "      <td>uri</td>\n",
       "      <td>http://swat.cse.lehigh.edu/onto/univ-bench.owl#name</td>\n",
       "    </tr>\n",
       "    <tr>\n",
       "      <th>7</th>\n",
       "      <td>NaN</td>\n",
       "      <td>uri</td>\n",
       "      <td>http://www.Department14.University0.edu/GraduateCourse5</td>\n",
       "      <td>uri</td>\n",
       "      <td>http://swat.cse.lehigh.edu/onto/univ-bench.owl#teacherOf</td>\n",
       "    </tr>\n",
       "    <tr>\n",
       "      <th>8</th>\n",
       "      <td>NaN</td>\n",
       "      <td>uri</td>\n",
       "      <td>http://www.Department14.University0.edu/Course4</td>\n",
       "      <td>uri</td>\n",
       "      <td>http://swat.cse.lehigh.edu/onto/univ-bench.owl#teacherOf</td>\n",
       "    </tr>\n",
       "    <tr>\n",
       "      <th>9</th>\n",
       "      <td>NaN</td>\n",
       "      <td>uri</td>\n",
       "      <td>http://www.Department14.University0.edu/GraduateCourse4</td>\n",
       "      <td>uri</td>\n",
       "      <td>http://swat.cse.lehigh.edu/onto/univ-bench.owl#teacherOf</td>\n",
       "    </tr>\n",
       "    <tr>\n",
       "      <th>10</th>\n",
       "      <td>NaN</td>\n",
       "      <td>uri</td>\n",
       "      <td>http://www.University214.edu</td>\n",
       "      <td>uri</td>\n",
       "      <td>http://swat.cse.lehigh.edu/onto/univ-bench.owl#undergraduateDegreeFrom</td>\n",
       "    </tr>\n",
       "    <tr>\n",
       "      <th>11</th>\n",
       "      <td>NaN</td>\n",
       "      <td>uri</td>\n",
       "      <td>http://www.University912.edu</td>\n",
       "      <td>uri</td>\n",
       "      <td>http://swat.cse.lehigh.edu/onto/univ-bench.owl#mastersDegreeFrom</td>\n",
       "    </tr>\n",
       "    <tr>\n",
       "      <th>12</th>\n",
       "      <td>NaN</td>\n",
       "      <td>uri</td>\n",
       "      <td>http://www.University801.edu</td>\n",
       "      <td>uri</td>\n",
       "      <td>http://swat.cse.lehigh.edu/onto/univ-bench.owl#doctoralDegreeFrom</td>\n",
       "    </tr>\n",
       "    <tr>\n",
       "      <th>13</th>\n",
       "      <td>NaN</td>\n",
       "      <td>uri</td>\n",
       "      <td>http://www.Department14.University0.edu</td>\n",
       "      <td>uri</td>\n",
       "      <td>http://swat.cse.lehigh.edu/onto/univ-bench.owl#worksFor</td>\n",
       "    </tr>\n",
       "    <tr>\n",
       "      <th>14</th>\n",
       "      <td>http://www.w3.org/2001/XMLSchema#string</td>\n",
       "      <td>literal</td>\n",
       "      <td>FullProfessor4@Department14.University0.edu</td>\n",
       "      <td>uri</td>\n",
       "      <td>http://swat.cse.lehigh.edu/onto/univ-bench.owl#emailAddress</td>\n",
       "    </tr>\n",
       "    <tr>\n",
       "      <th>15</th>\n",
       "      <td>http://www.w3.org/2001/XMLSchema#string</td>\n",
       "      <td>literal</td>\n",
       "      <td>xxx-xxx-xxxx</td>\n",
       "      <td>uri</td>\n",
       "      <td>http://swat.cse.lehigh.edu/onto/univ-bench.owl#telephone</td>\n",
       "    </tr>\n",
       "    <tr>\n",
       "      <th>16</th>\n",
       "      <td>http://www.w3.org/2001/XMLSchema#string</td>\n",
       "      <td>literal</td>\n",
       "      <td>Research25</td>\n",
       "      <td>uri</td>\n",
       "      <td>http://swat.cse.lehigh.edu/onto/univ-bench.owl#researchInterest</td>\n",
       "    </tr>\n",
       "    <tr>\n",
       "      <th>17</th>\n",
       "      <td>NaN</td>\n",
       "      <td>uri</td>\n",
       "      <td>http://www.Department14.University0.edu</td>\n",
       "      <td>uri</td>\n",
       "      <td>http://swat.cse.lehigh.edu/onto/univ-bench.owl#memberOf</td>\n",
       "    </tr>\n",
       "    <tr>\n",
       "      <th>18</th>\n",
       "      <td>NaN</td>\n",
       "      <td>uri</td>\n",
       "      <td>http://www.University214.edu</td>\n",
       "      <td>uri</td>\n",
       "      <td>http://swat.cse.lehigh.edu/onto/univ-bench.owl#degreeFrom</td>\n",
       "    </tr>\n",
       "    <tr>\n",
       "      <th>19</th>\n",
       "      <td>NaN</td>\n",
       "      <td>uri</td>\n",
       "      <td>http://www.University912.edu</td>\n",
       "      <td>uri</td>\n",
       "      <td>http://swat.cse.lehigh.edu/onto/univ-bench.owl#degreeFrom</td>\n",
       "    </tr>\n",
       "    <tr>\n",
       "      <th>20</th>\n",
       "      <td>NaN</td>\n",
       "      <td>uri</td>\n",
       "      <td>http://www.University801.edu</td>\n",
       "      <td>uri</td>\n",
       "      <td>http://swat.cse.lehigh.edu/onto/univ-bench.owl#degreeFrom</td>\n",
       "    </tr>\n",
       "  </tbody>\n",
       "</table>\n",
       "</div>"
      ],
      "text/plain": [
       "                                 o.datatype   o.type  \\\n",
       "0                                       NaN      uri   \n",
       "1                                       NaN      uri   \n",
       "2                                       NaN      uri   \n",
       "3                                       NaN      uri   \n",
       "4                                       NaN      uri   \n",
       "5                                       NaN      uri   \n",
       "6   http://www.w3.org/2001/XMLSchema#string  literal   \n",
       "7                                       NaN      uri   \n",
       "8                                       NaN      uri   \n",
       "9                                       NaN      uri   \n",
       "10                                      NaN      uri   \n",
       "11                                      NaN      uri   \n",
       "12                                      NaN      uri   \n",
       "13                                      NaN      uri   \n",
       "14  http://www.w3.org/2001/XMLSchema#string  literal   \n",
       "15  http://www.w3.org/2001/XMLSchema#string  literal   \n",
       "16  http://www.w3.org/2001/XMLSchema#string  literal   \n",
       "17                                      NaN      uri   \n",
       "18                                      NaN      uri   \n",
       "19                                      NaN      uri   \n",
       "20                                      NaN      uri   \n",
       "\n",
       "                                                         o.value p.type  \\\n",
       "0                  http://www.w3.org/2000/01/rdf-schema#Resource    uri   \n",
       "1   http://swat.cse.lehigh.edu/onto/univ-bench.owl#FullProfessor    uri   \n",
       "2         http://swat.cse.lehigh.edu/onto/univ-bench.owl#Faculty    uri   \n",
       "3          http://swat.cse.lehigh.edu/onto/univ-bench.owl#Person    uri   \n",
       "4       http://swat.cse.lehigh.edu/onto/univ-bench.owl#Professor    uri   \n",
       "5        http://swat.cse.lehigh.edu/onto/univ-bench.owl#Employee    uri   \n",
       "6                                                 FullProfessor4    uri   \n",
       "7        http://www.Department14.University0.edu/GraduateCourse5    uri   \n",
       "8                http://www.Department14.University0.edu/Course4    uri   \n",
       "9        http://www.Department14.University0.edu/GraduateCourse4    uri   \n",
       "10                                  http://www.University214.edu    uri   \n",
       "11                                  http://www.University912.edu    uri   \n",
       "12                                  http://www.University801.edu    uri   \n",
       "13                       http://www.Department14.University0.edu    uri   \n",
       "14                   FullProfessor4@Department14.University0.edu    uri   \n",
       "15                                                  xxx-xxx-xxxx    uri   \n",
       "16                                                    Research25    uri   \n",
       "17                       http://www.Department14.University0.edu    uri   \n",
       "18                                  http://www.University214.edu    uri   \n",
       "19                                  http://www.University912.edu    uri   \n",
       "20                                  http://www.University801.edu    uri   \n",
       "\n",
       "                                                                   p.value  \n",
       "0                          http://www.w3.org/1999/02/22-rdf-syntax-ns#type  \n",
       "1                          http://www.w3.org/1999/02/22-rdf-syntax-ns#type  \n",
       "2                          http://www.w3.org/1999/02/22-rdf-syntax-ns#type  \n",
       "3                          http://www.w3.org/1999/02/22-rdf-syntax-ns#type  \n",
       "4                          http://www.w3.org/1999/02/22-rdf-syntax-ns#type  \n",
       "5                          http://www.w3.org/1999/02/22-rdf-syntax-ns#type  \n",
       "6                      http://swat.cse.lehigh.edu/onto/univ-bench.owl#name  \n",
       "7                 http://swat.cse.lehigh.edu/onto/univ-bench.owl#teacherOf  \n",
       "8                 http://swat.cse.lehigh.edu/onto/univ-bench.owl#teacherOf  \n",
       "9                 http://swat.cse.lehigh.edu/onto/univ-bench.owl#teacherOf  \n",
       "10  http://swat.cse.lehigh.edu/onto/univ-bench.owl#undergraduateDegreeFrom  \n",
       "11        http://swat.cse.lehigh.edu/onto/univ-bench.owl#mastersDegreeFrom  \n",
       "12       http://swat.cse.lehigh.edu/onto/univ-bench.owl#doctoralDegreeFrom  \n",
       "13                 http://swat.cse.lehigh.edu/onto/univ-bench.owl#worksFor  \n",
       "14             http://swat.cse.lehigh.edu/onto/univ-bench.owl#emailAddress  \n",
       "15                http://swat.cse.lehigh.edu/onto/univ-bench.owl#telephone  \n",
       "16         http://swat.cse.lehigh.edu/onto/univ-bench.owl#researchInterest  \n",
       "17                 http://swat.cse.lehigh.edu/onto/univ-bench.owl#memberOf  \n",
       "18               http://swat.cse.lehigh.edu/onto/univ-bench.owl#degreeFrom  \n",
       "19               http://swat.cse.lehigh.edu/onto/univ-bench.owl#degreeFrom  \n",
       "20               http://swat.cse.lehigh.edu/onto/univ-bench.owl#degreeFrom  "
      ]
     },
     "execution_count": 9,
     "metadata": {},
     "output_type": "execute_result"
    }
   ],
   "source": [
    "entity_statement_query = \"\"\"\n",
    "PREFIX  ub: <http://swat.cse.lehigh.edu/onto/univ-bench.owl#>\n",
    "Select ?p ?o where {\n",
    "   <http://www.Department14.University0.edu/FullProfessor4> ?p ?o .\n",
    "}\n",
    "\"\"\"\n",
    "\n",
    "results_df = execute_query(entity_statement_query)\n",
    "\n",
    "# Show all the results\n",
    "results_df\n"
   ]
  },
  {
   "cell_type": "markdown",
   "metadata": {},
   "source": [
    "From the above result we see that the `literal` values don't add more information to the triple except that they are string values for an entity. Morever, they don't have any statements associated with them. So we filter the literal values out first."
   ]
  },
  {
   "cell_type": "code",
   "execution_count": 10,
   "metadata": {},
   "outputs": [
    {
     "data": {
      "text/html": [
       "<div>\n",
       "<style>\n",
       "    .dataframe thead tr:only-child th {\n",
       "        text-align: right;\n",
       "    }\n",
       "\n",
       "    .dataframe thead th {\n",
       "        text-align: left;\n",
       "    }\n",
       "\n",
       "    .dataframe tbody tr th {\n",
       "        vertical-align: top;\n",
       "    }\n",
       "</style>\n",
       "<table border=\"1\" class=\"dataframe\">\n",
       "  <thead>\n",
       "    <tr style=\"text-align: right;\">\n",
       "      <th></th>\n",
       "      <th>p.value</th>\n",
       "      <th>o.value</th>\n",
       "    </tr>\n",
       "  </thead>\n",
       "  <tbody>\n",
       "    <tr>\n",
       "      <th>0</th>\n",
       "      <td>http://www.w3.org/1999/02/22-rdf-syntax-ns#type</td>\n",
       "      <td>http://www.w3.org/2000/01/rdf-schema#Resource</td>\n",
       "    </tr>\n",
       "    <tr>\n",
       "      <th>1</th>\n",
       "      <td>http://www.w3.org/1999/02/22-rdf-syntax-ns#type</td>\n",
       "      <td>http://swat.cse.lehigh.edu/onto/univ-bench.owl#FullProfessor</td>\n",
       "    </tr>\n",
       "    <tr>\n",
       "      <th>2</th>\n",
       "      <td>http://www.w3.org/1999/02/22-rdf-syntax-ns#type</td>\n",
       "      <td>http://swat.cse.lehigh.edu/onto/univ-bench.owl#Faculty</td>\n",
       "    </tr>\n",
       "    <tr>\n",
       "      <th>3</th>\n",
       "      <td>http://www.w3.org/1999/02/22-rdf-syntax-ns#type</td>\n",
       "      <td>http://swat.cse.lehigh.edu/onto/univ-bench.owl#Person</td>\n",
       "    </tr>\n",
       "    <tr>\n",
       "      <th>4</th>\n",
       "      <td>http://www.w3.org/1999/02/22-rdf-syntax-ns#type</td>\n",
       "      <td>http://swat.cse.lehigh.edu/onto/univ-bench.owl#Professor</td>\n",
       "    </tr>\n",
       "    <tr>\n",
       "      <th>5</th>\n",
       "      <td>http://www.w3.org/1999/02/22-rdf-syntax-ns#type</td>\n",
       "      <td>http://swat.cse.lehigh.edu/onto/univ-bench.owl#Employee</td>\n",
       "    </tr>\n",
       "    <tr>\n",
       "      <th>7</th>\n",
       "      <td>http://swat.cse.lehigh.edu/onto/univ-bench.owl#teacherOf</td>\n",
       "      <td>http://www.Department14.University0.edu/GraduateCourse5</td>\n",
       "    </tr>\n",
       "    <tr>\n",
       "      <th>8</th>\n",
       "      <td>http://swat.cse.lehigh.edu/onto/univ-bench.owl#teacherOf</td>\n",
       "      <td>http://www.Department14.University0.edu/Course4</td>\n",
       "    </tr>\n",
       "    <tr>\n",
       "      <th>9</th>\n",
       "      <td>http://swat.cse.lehigh.edu/onto/univ-bench.owl#teacherOf</td>\n",
       "      <td>http://www.Department14.University0.edu/GraduateCourse4</td>\n",
       "    </tr>\n",
       "    <tr>\n",
       "      <th>10</th>\n",
       "      <td>http://swat.cse.lehigh.edu/onto/univ-bench.owl#undergraduateDegreeFrom</td>\n",
       "      <td>http://www.University214.edu</td>\n",
       "    </tr>\n",
       "    <tr>\n",
       "      <th>11</th>\n",
       "      <td>http://swat.cse.lehigh.edu/onto/univ-bench.owl#mastersDegreeFrom</td>\n",
       "      <td>http://www.University912.edu</td>\n",
       "    </tr>\n",
       "    <tr>\n",
       "      <th>12</th>\n",
       "      <td>http://swat.cse.lehigh.edu/onto/univ-bench.owl#doctoralDegreeFrom</td>\n",
       "      <td>http://www.University801.edu</td>\n",
       "    </tr>\n",
       "    <tr>\n",
       "      <th>13</th>\n",
       "      <td>http://swat.cse.lehigh.edu/onto/univ-bench.owl#worksFor</td>\n",
       "      <td>http://www.Department14.University0.edu</td>\n",
       "    </tr>\n",
       "    <tr>\n",
       "      <th>17</th>\n",
       "      <td>http://swat.cse.lehigh.edu/onto/univ-bench.owl#memberOf</td>\n",
       "      <td>http://www.Department14.University0.edu</td>\n",
       "    </tr>\n",
       "    <tr>\n",
       "      <th>18</th>\n",
       "      <td>http://swat.cse.lehigh.edu/onto/univ-bench.owl#degreeFrom</td>\n",
       "      <td>http://www.University214.edu</td>\n",
       "    </tr>\n",
       "    <tr>\n",
       "      <th>19</th>\n",
       "      <td>http://swat.cse.lehigh.edu/onto/univ-bench.owl#degreeFrom</td>\n",
       "      <td>http://www.University912.edu</td>\n",
       "    </tr>\n",
       "    <tr>\n",
       "      <th>20</th>\n",
       "      <td>http://swat.cse.lehigh.edu/onto/univ-bench.owl#degreeFrom</td>\n",
       "      <td>http://www.University801.edu</td>\n",
       "    </tr>\n",
       "  </tbody>\n",
       "</table>\n",
       "</div>"
      ],
      "text/plain": [
       "                                                                   p.value  \\\n",
       "0                          http://www.w3.org/1999/02/22-rdf-syntax-ns#type   \n",
       "1                          http://www.w3.org/1999/02/22-rdf-syntax-ns#type   \n",
       "2                          http://www.w3.org/1999/02/22-rdf-syntax-ns#type   \n",
       "3                          http://www.w3.org/1999/02/22-rdf-syntax-ns#type   \n",
       "4                          http://www.w3.org/1999/02/22-rdf-syntax-ns#type   \n",
       "5                          http://www.w3.org/1999/02/22-rdf-syntax-ns#type   \n",
       "7                 http://swat.cse.lehigh.edu/onto/univ-bench.owl#teacherOf   \n",
       "8                 http://swat.cse.lehigh.edu/onto/univ-bench.owl#teacherOf   \n",
       "9                 http://swat.cse.lehigh.edu/onto/univ-bench.owl#teacherOf   \n",
       "10  http://swat.cse.lehigh.edu/onto/univ-bench.owl#undergraduateDegreeFrom   \n",
       "11        http://swat.cse.lehigh.edu/onto/univ-bench.owl#mastersDegreeFrom   \n",
       "12       http://swat.cse.lehigh.edu/onto/univ-bench.owl#doctoralDegreeFrom   \n",
       "13                 http://swat.cse.lehigh.edu/onto/univ-bench.owl#worksFor   \n",
       "17                 http://swat.cse.lehigh.edu/onto/univ-bench.owl#memberOf   \n",
       "18               http://swat.cse.lehigh.edu/onto/univ-bench.owl#degreeFrom   \n",
       "19               http://swat.cse.lehigh.edu/onto/univ-bench.owl#degreeFrom   \n",
       "20               http://swat.cse.lehigh.edu/onto/univ-bench.owl#degreeFrom   \n",
       "\n",
       "                                                         o.value  \n",
       "0                  http://www.w3.org/2000/01/rdf-schema#Resource  \n",
       "1   http://swat.cse.lehigh.edu/onto/univ-bench.owl#FullProfessor  \n",
       "2         http://swat.cse.lehigh.edu/onto/univ-bench.owl#Faculty  \n",
       "3          http://swat.cse.lehigh.edu/onto/univ-bench.owl#Person  \n",
       "4       http://swat.cse.lehigh.edu/onto/univ-bench.owl#Professor  \n",
       "5        http://swat.cse.lehigh.edu/onto/univ-bench.owl#Employee  \n",
       "7        http://www.Department14.University0.edu/GraduateCourse5  \n",
       "8                http://www.Department14.University0.edu/Course4  \n",
       "9        http://www.Department14.University0.edu/GraduateCourse4  \n",
       "10                                  http://www.University214.edu  \n",
       "11                                  http://www.University912.edu  \n",
       "12                                  http://www.University801.edu  \n",
       "13                       http://www.Department14.University0.edu  \n",
       "17                       http://www.Department14.University0.edu  \n",
       "18                                  http://www.University214.edu  \n",
       "19                                  http://www.University912.edu  \n",
       "20                                  http://www.University801.edu  "
      ]
     },
     "execution_count": 10,
     "metadata": {},
     "output_type": "execute_result"
    }
   ],
   "source": [
    "results_df = results_df[results_df['o.type'] == 'uri']\n",
    "results_df = results_df[['p.value','o.value']]\n",
    "results_df"
   ]
  },
  {
   "cell_type": "markdown",
   "metadata": {},
   "source": [
    "The element in `row 0`, is too generic because it tags anything as a resource. So instead of that lets eyeball some interesting properties and change our initial query. For the sake of this example I pick \n",
    "\n",
    "| Predicate        | Object           |\n",
    "| ------------- |:-------------:|\n",
    "|**mastersDegreeFrom**|University912.edu|\n",
    "|**memberOf**|Department14.University0.edu|\n",
    "\n",
    "The above two properties say something about the entity **Professor14** i.e. it says that **Professor14** got his `doctoralDegreeFrom University801.edu` and is `memberOf Department14.University0.edu`. To utilize these features in a query, one just has to convert them to a variable so that it becomes a valid _triple pattern_. This is shown in the table below : "
   ]
  },
  {
   "cell_type": "markdown",
   "metadata": {},
   "source": [
    "<table>\n",
    "<tr><th>Entity Statements </th><th> Entity Patterns</th></tr>\n",
    "<tr><td>\n",
    "\n",
    "|Entity| Predicate | Value|\n",
    "|--|--|--|\n",
    "|**Professor14**| **mastersDegreeFrom**|University912.edu|\n",
    "|**Professor14**| **memberOf**|Department14.University0.edu|\n",
    "\n",
    "</td><td>\n",
    "\n",
    "|Variable|Predicate|Value| \n",
    "|--|--|--|\n",
    "|?x|**mastersDegreeFrom**|University912.edu|\n",
    "|?x|**memberOf**|Department14.University0.edu|\n"
   ]
  },
  {
   "cell_type": "markdown",
   "metadata": {},
   "source": [
    "Now let us pick the first pattern and add it back to the original query. Then lets add the second pattern to the original query independently.  This results in a  reformulated queries that looks like :\n",
    "\n",
    "```\n",
    "Select ?course where {\n",
    "   ?x ub:teacherOf  ?course .\n",
    "   ?x mastersDegreeFrom University912.edu .\n",
    "}\n",
    "```\n",
    "\n",
    "```\n",
    "Select ?course where {\n",
    "   ?x ub:teacherOf  ?course .\n",
    "   ?x memberOf Department14.University0.edu .\n",
    "}\n",
    "```\n"
   ]
  },
  {
   "cell_type": "markdown",
   "metadata": {},
   "source": [
    "The inital query was :\n",
    "\n",
    "* Select courses taught by **FullProfessor4**\n",
    "\n",
    "Adding the two new features the query becomes :\n",
    "* Select courses taught by ?x who has a mastersDegreeFrom `University912.edu` \n",
    "* Select courses taught by ?x who is a member of `Department14.Univeristy0.edu` .\n",
    "\n",
    "Both the above queries are more contextual and give precise answers than the initial relaxation which read as \n",
    "* Select all courses taught by any teacher\n",
    "\n",
    "So lets run the reformulation to see the results."
   ]
  },
  {
   "cell_type": "code",
   "execution_count": 11,
   "metadata": {},
   "outputs": [
    {
     "name": "stdout",
     "output_type": "stream",
     "text": [
      "The number of courses now is 5\n",
      "CPU times: user 8 ms, sys: 0 ns, total: 8 ms\n",
      "Wall time: 566 ms\n"
     ]
    }
   ],
   "source": [
    "%%time \n",
    "entity_reformulated_query = \"\"\"\n",
    "PREFIX  ub: <http://swat.cse.lehigh.edu/onto/univ-bench.owl#>\n",
    "Select ?course where {\n",
    "   ?x ub:teacherOf ?course .\n",
    "   ?x ub:mastersDegreeFrom <http://www.University912.edu> .\n",
    "   \n",
    "}\n",
    "\"\"\"\n",
    "\n",
    "ref_1 = execute_query(entity_reformulated_query)\n",
    "\n",
    "# Show all the results\n",
    "print(\"The number of courses now is \" + str(ref_1.shape[0]))\n",
    "ref_1.head()"
   ]
  },
  {
   "cell_type": "code",
   "execution_count": 12,
   "metadata": {},
   "outputs": [
    {
     "name": "stdout",
     "output_type": "stream",
     "text": [
      "The number of courses now is 97\n",
      "CPU times: user 8 ms, sys: 0 ns, total: 8 ms\n",
      "Wall time: 813 ms\n"
     ]
    }
   ],
   "source": [
    "%%time \n",
    "entity_reformulated_query = \"\"\"\n",
    "PREFIX  ub: <http://swat.cse.lehigh.edu/onto/univ-bench.owl#>\n",
    "Select ?course where {\n",
    "   ?x ub:teacherOf ?course .\n",
    "   ?x ub:memberOf <http://www.Department14.University0.edu> .\n",
    "   \n",
    "}\n",
    "\"\"\"\n",
    "\n",
    "ref_2 = execute_query(entity_reformulated_query)\n",
    "\n",
    "# Show all the results\n",
    "print(\"The number of courses now is \" + str(ref_2.shape[0]))\n",
    "ref_2.head()"
   ]
  },
  {
   "cell_type": "markdown",
   "metadata": {},
   "source": [
    "Now lets find the common results between the two reformulations"
   ]
  },
  {
   "cell_type": "code",
   "execution_count": 13,
   "metadata": {},
   "outputs": [
    {
     "data": {
      "text/html": [
       "<div>\n",
       "<style>\n",
       "    .dataframe thead tr:only-child th {\n",
       "        text-align: right;\n",
       "    }\n",
       "\n",
       "    .dataframe thead th {\n",
       "        text-align: left;\n",
       "    }\n",
       "\n",
       "    .dataframe tbody tr th {\n",
       "        vertical-align: top;\n",
       "    }\n",
       "</style>\n",
       "<table border=\"1\" class=\"dataframe\">\n",
       "  <thead>\n",
       "    <tr style=\"text-align: right;\">\n",
       "      <th></th>\n",
       "      <th>course.type</th>\n",
       "      <th>course.value</th>\n",
       "    </tr>\n",
       "  </thead>\n",
       "  <tbody>\n",
       "    <tr>\n",
       "      <th>0</th>\n",
       "      <td>uri</td>\n",
       "      <td>http://www.Department14.University0.edu/GraduateCourse5</td>\n",
       "    </tr>\n",
       "    <tr>\n",
       "      <th>1</th>\n",
       "      <td>uri</td>\n",
       "      <td>http://www.Department14.University0.edu/Course4</td>\n",
       "    </tr>\n",
       "    <tr>\n",
       "      <th>2</th>\n",
       "      <td>uri</td>\n",
       "      <td>http://www.Department14.University0.edu/GraduateCourse4</td>\n",
       "    </tr>\n",
       "  </tbody>\n",
       "</table>\n",
       "</div>"
      ],
      "text/plain": [
       "  course.type                                             course.value\n",
       "0         uri  http://www.Department14.University0.edu/GraduateCourse5\n",
       "1         uri          http://www.Department14.University0.edu/Course4\n",
       "2         uri  http://www.Department14.University0.edu/GraduateCourse4"
      ]
     },
     "execution_count": 13,
     "metadata": {},
     "output_type": "execute_result"
    }
   ],
   "source": [
    "overall_ref = pd.merge(ref_1,ref_2,how='inner',on=['course.type','course.value'])\n",
    "overall_ref"
   ]
  },
  {
   "cell_type": "markdown",
   "metadata": {},
   "source": [
    "Lets find the results that are not common between the two reformulations.\n",
    "\n"
   ]
  },
  {
   "cell_type": "code",
   "execution_count": 14,
   "metadata": {},
   "outputs": [
    {
     "data": {
      "text/plain": [
       "96"
      ]
     },
     "execution_count": 14,
     "metadata": {},
     "output_type": "execute_result"
    }
   ],
   "source": [
    "merged_df = pd.concat([ref_1,ref_2])\n",
    "merged_df  = merged_df.drop_duplicates(keep=False)\n",
    "merged_df.shape[0]"
   ]
  },
  {
   "cell_type": "markdown",
   "metadata": {},
   "source": [
    "So we now have the following comparisons between relaxation and reformulation\n",
    "\n",
    "### Results Comparison\n",
    "| Original Query        | **Relaxation**           | Ref-1 | Ref-2 | Combined |\n",
    "| ------------- |:-------------:|:--------:|:-------:|:---------|\n",
    "|3|1627|5|97|99|\n",
    "\n",
    "### Time Comparison\n",
    " | **Relaxation**           | Ref-1 | Ref-2 | \n",
    "|:-------------:|:--------:|:-------:|\n",
    "|1880ms|566ms|813ms|\n",
    "\n",
    "* Clearly the Relaxation results are higher, whereas the reformulation results are lesser. This makes this kind of reformulation more precise.\n",
    "* In addition the time calculation shows that the resulting reformulations also run in lesser time than the relaxed version of the query.\n",
    "\n",
    "This can be visualized as \n",
    "\n",
    "![GitHub Logo](files/images/Chart.png)\n"
   ]
  },
  {
   "cell_type": "markdown",
   "metadata": {},
   "source": []
  }
 ],
 "metadata": {
  "kernelspec": {
   "display_name": "Python 2",
   "language": "python",
   "name": "python2"
  },
  "language_info": {
   "codemirror_mode": {
    "name": "ipython",
    "version": 2
   },
   "file_extension": ".py",
   "mimetype": "text/x-python",
   "name": "python",
   "nbconvert_exporter": "python",
   "pygments_lexer": "ipython2",
   "version": "2.7.12"
  }
 },
 "nbformat": 4,
 "nbformat_minor": 2
}
